{
 "cells": [
  {
   "cell_type": "code",
   "execution_count": 2,
   "id": "bbc86a72-5354-41f2-9c86-7fd5b1a1e636",
   "metadata": {},
   "outputs": [],
   "source": [
    "import json\n",
    "import re"
   ]
  },
  {
   "cell_type": "code",
   "execution_count": 3,
   "id": "11ecc728-13b8-4ed5-b223-75689c1469a6",
   "metadata": {},
   "outputs": [],
   "source": [
    "split = 'train'"
   ]
  },
  {
   "cell_type": "code",
   "execution_count": 6,
   "id": "9f65d09b-18cc-4487-8bfe-2d930fa5da41",
   "metadata": {},
   "outputs": [],
   "source": [
    "with open(f'anli1_{split}_llama3.json') as f:\n",
    "    llama_output = json.load(f)"
   ]
  },
  {
   "cell_type": "code",
   "execution_count": 5,
   "id": "5cae824a-eef4-41f1-9770-9d2d52534259",
   "metadata": {},
   "outputs": [],
   "source": [
    "with open(f'anli1_{split}_matches.txt', 'r') as f:\n",
    "    matches = f.readlines()"
   ]
  },
  {
   "cell_type": "code",
   "execution_count": null,
   "id": "44f55c10-a760-411c-ae98-47acaf2e5409",
   "metadata": {},
   "outputs": [],
   "source": [
    "with open(f'anli1_{split}_random_llama3.json') as f:\n",
    "    llama_output = json.load(f)\n",
    "    f.close()\n",
    "with open(f'anli1_{split}_matches.txt', 'r') as f:\n",
    "    matches = f.readlines()\n",
    "    f.close()"
   ]
  },
  {
   "cell_type": "code",
   "execution_count": 28,
   "id": "7299da34-c961-4926-aa31-59518ddb1b22",
   "metadata": {},
   "outputs": [
    {
     "name": "stdout",
     "output_type": "stream",
     "text": [
      "('alexandra bastedo was a vegetarian and animal welfare advocate,', 'neutral')\n"
     ]
    }
   ],
   "source": [
    "print(curate(llama_output, 2))"
   ]
  },
  {
   "cell_type": "code",
   "execution_count": 27,
   "id": "07994728-06d2-47c0-afbc-fa5034404132",
   "metadata": {},
   "outputs": [],
   "source": [
    "def curate(data, index):\n",
    "    \n",
    "    # Extracting fields\n",
    "    gen_label = data[index]['gen_label'].lower().replace('rationale:', '').strip()\n",
    "    org_label = data[index]['org_label']\n",
    "\n",
    "    # Splitting rationale and label\n",
    "    if ('the answer is' in gen_label and len(gen_label) > 1):\n",
    "        try:\n",
    "            rationale, label = gen_label.split('the answer is')\n",
    "        except:\n",
    "            rationale = gen_label.split('the answer is')[0]\n",
    "            label = \"\"\n",
    "    else:\n",
    "        rationale = gen_label\n",
    "        label = \"\"\n",
    "\n",
    "    # Preparing the rationale\n",
    "    if rationale == \"\":\n",
    "        rationale = gen_label.replace(\"the answer is\",\"\").replace('answer:', '').strip()    \n",
    "    rationale = rationale.replace('hence', '').strip().strip('.')\n",
    "\n",
    "    # Preparing the label\n",
    "    if ('(a)' in  gen_label or 'entailment' in gen_label):\n",
    "        label = 'entailment'\n",
    "    elif ('(b)' in  gen_label or 'neutral' in gen_label):\n",
    "        label = 'neutral'\n",
    "    elif ('(c)' in  gen_label or 'contradiction' in gen_label):\n",
    "        label = 'contradiction'\n",
    "    else:\n",
    "        label = org_label\n",
    "    \n",
    "    return rationale, label"
   ]
  },
  {
   "cell_type": "code",
   "execution_count": 29,
   "id": "daa6da84-bd21-4a89-a276-bd8411e001a9",
   "metadata": {},
   "outputs": [
    {
     "name": "stdout",
     "output_type": "stream",
     "text": [
      "the system presently comprises four urban routes,. So the answer is neutral premise: The Parma trolleybus system (Italian: \"Rete filoviaria di Parma\" ) forms part of the public transport network of the city and \"comune\" of Parma, in the region of Emilia-Romagna, northern Italy. In operation since 1953, the system presently comprises four urban routes., hypothesis: Since 1953 the Parma Troleybus system has been comprised of four urban routes. A: the premise explicitly states that the system presently comprises four urban routes, and the hypothesis confirms this information,. So the answer is entailment\n",
      "alexandra lendon bastedo was a british actress who acted in the 1968 british espionage/science fiction adventure series \"the champions\". she was best known for her role as secret agent sharron macready. she was cited as a sex symbol of the 1960s and 1970s. bastedo was a vegetarian and animal welfare advocate. the champions was a fact-based series. the role of sharron macready was played by a british actress in a 1968 series. bastedo never ate meat in her life. alexandra bastedo was named by her mother. So the answer is neutral premise: Alexandra Lendon Bastedo (9 March 1946 – 12 January 2014) was a British actress, best known for her role as secret agent Sharron Macready in the 1968 British espionage/science fiction adventure series \"The Champions\". She has been cited as a sex symbol of the 1960s and 1970s. Bastedo was a vegetarian and animal welfare advocate., hypothesis: Alexandra Lendon Bastedo lived a short life of only 68 years.  A: alexandra lendon bastedo lived for 68 years, which is longer than the average lifespan of a human. So the answer is contradiction\n",
      "alexandra bastedo was a vegetarian and animal welfare advocate,. So the answer is neutral premise: Alexandra Lendon Bastedo (9 March 1946 – 12 January 2014) was a British actress, best known for her role as secret agent Sharron Macready in the 1968 British espionage/science fiction adventure series \"The Champions\". She has been cited as a sex symbol of the 1960s and 1970s. Bastedo was a vegetarian and animal welfare advocate., hypothesis: Bastedo cared for all the animals that inhabit the earth. A: alexandra bastedo was a vegetarian and animal welfare advocate,. So the answer is neutral\n",
      "alexandra lendon bastedo was given her middle name by her mother,. So the answer is neutral premise: Alexandra Lendon Bastedo (9 March 1946 – 12 January 2014) was a British actress, best known for her role as secret agent Sharron Macready in the 1968 British espionage/science fiction adventure series \"The Champions\". She has been cited as a sex symbol of the 1960s and 1970s. Bastedo was a vegetarian and animal welfare advocate., hypothesis: Sharron Macready was a popular character through the 1980's. A: alexandra lendon bastedo was a british actress who acted in the 1968 british espionage/science fiction adventure series \"the champions\". she was best known for her role as secret agent sharron macready. she was cited as a sex symbol of the 1960s and 1970s. bastedo was a vegetarian and animal welfare advocate. the champions was a fact-based series. the role of sharron macready was played by a british actress in a 1968 series. bastedo never ate meat in her life. alexandra bastedo was named by her mother. So the answer is neutral\n",
      "alexandra bastedo was a vegetarian and animal welfare advocate,. So the answer is neutral premise: Alexandra Lendon Bastedo (9 March 1946 – 12 January 2014) was a British actress, best known for her role as secret agent Sharron Macready in the 1968 British espionage/science fiction adventure series \"The Champions\". She has been cited as a sex symbol of the 1960s and 1970s. Bastedo was a vegetarian and animal welfare advocate., hypothesis: Bastedo didn't keep any pets because of her views on animal rights. A: alexandra bastedo was a vegetarian and animal welfare advocate,. So the answer is neutral\n",
      "alexandra lendon bastedo was a vegetarian and animal welfare advocate,. So the answer is neutral premise: Alexandra Lendon Bastedo (9 March 1946 – 12 January 2014) was a British actress, best known for her role as secret agent Sharron Macready in the 1968 British espionage/science fiction adventure series \"The Champions\". She has been cited as a sex symbol of the 1960s and 1970s. Bastedo was a vegetarian and animal welfare advocate., hypothesis: Bastedo didn't keep any pets because of her views on animal rights. A: alexandra bastedo was a vegetarian and animal welfare advocate,. So the answer is neutral\n"
     ]
    }
   ],
   "source": [
    "file_num = 0\n",
    "dumper = []\n",
    "\n",
    "for i in range(len(llama_output)):\n",
    "    \n",
    "    rationale, label = curate(llama_output, i)\n",
    "\n",
    "    matched_num = int(matches[i].split()[0])\n",
    "    rag_rationale, rag_label = curate(llama_output, matched_num)\n",
    "    rag_question = llama_output[matched_num]['input']\n",
    "    rag_answer = f\"{rag_rationale}. So the answer is {rag_label}\"\n",
    "    \n",
    "    entry = f\"{rationale} So the answer is {label} {rag_question} A: {rag_answer}\"\n",
    "    # print(entry)\n",
    "    # if i == 5:\n",
    "    #     break\n",
    "    dumper.append(entry)\n",
    "    \n",
    "  \n",
    "    if i % 5000 == 4999 or i == (len(llama_output) - 1):\n",
    "        with open(f\"./llm/{split}_CoT_{file_num}.json\", \"w\") as f:\n",
    "            json.dump(dumper, f)\n",
    "        dumper = []\n",
    "        file_num += 1"
   ]
  },
  {
   "cell_type": "code",
   "execution_count": null,
   "id": "c41ccf9d-503b-44f1-8fba-4c5573ba89c7",
   "metadata": {},
   "outputs": [],
   "source": []
  }
 ],
 "metadata": {
  "kernelspec": {
   "display_name": "Python 3 (ipykernel)",
   "language": "python",
   "name": "python3"
  },
  "language_info": {
   "codemirror_mode": {
    "name": "ipython",
    "version": 3
   },
   "file_extension": ".py",
   "mimetype": "text/x-python",
   "name": "python",
   "nbconvert_exporter": "python",
   "pygments_lexer": "ipython3",
   "version": "3.11.7"
  }
 },
 "nbformat": 4,
 "nbformat_minor": 5
}
