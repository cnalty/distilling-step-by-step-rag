{
 "cells": [
  {
   "cell_type": "code",
   "execution_count": 20,
   "id": "458e40a2-4521-4a3c-9979-7cba8e8b8e01",
   "metadata": {},
   "outputs": [],
   "source": [
    "import json\n",
    "import re"
   ]
  },
  {
   "cell_type": "code",
   "execution_count": 21,
   "id": "e345dc32-5d85-41ba-9c43-fb8906041c93",
   "metadata": {},
   "outputs": [],
   "source": [
    "split = 'train'"
   ]
  },
  {
   "cell_type": "code",
   "execution_count": 3,
   "id": "a51d6cc7-bb02-46fc-af85-feb26de1731a",
   "metadata": {},
   "outputs": [],
   "source": [
    "with open(f'svamp_{split}_llama3.json') as f:\n",
    "    llama_output = json.load(f)"
   ]
  },
  {
   "cell_type": "code",
   "execution_count": 4,
   "id": "18962b71-b095-4bb4-8b71-6e3ff32ef855",
   "metadata": {},
   "outputs": [],
   "source": [
    "with open(f'svamp_{split}_matches.txt', 'r') as f:\n",
    "    matches = f.readlines()"
   ]
  },
  {
   "cell_type": "code",
   "execution_count": 22,
   "id": "3bd714f6-707e-4d2f-8eda-8f8922d94eec",
   "metadata": {},
   "outputs": [],
   "source": [
    "with open(f'svamp_{split}_random_llama3.json') as f:\n",
    "    llama_output = json.load(f)\n",
    "\n",
    "with open(f'svamp_{split}_matches.txt', 'r') as f:\n",
    "    matches = f.readlines()"
   ]
  },
  {
   "cell_type": "code",
   "execution_count": 23,
   "id": "6afbfd64-b896-464a-b1ed-8bace52d8490",
   "metadata": {},
   "outputs": [],
   "source": [
    "def curate(data, index):\n",
    "    # Extracting fields\n",
    "    gen_label = data[index]['gen_label'].lower().replace('rationale:', '').strip()\n",
    "    org_label = data[index]['org_label']\n",
    "    # choices = data[index]['input'].split('\\n')[-5:]\n",
    "    # split_choice = [re.split(r'\\(.\\)', choice)[1].strip() for choice in choices]\n",
    "    # derived_label = \"\".join(choices[j] for j in range(len(split_choice)) if split_choice[j] in gen_label)\n",
    "\n",
    "    # Splitting rationale and label\n",
    "    if ('the answer is' in gen_label and len(gen_label) > 1):\n",
    "        try:\n",
    "            rationale, label = gen_label.split('the answer is')\n",
    "        except:\n",
    "            rationale = gen_label.split('the answer is')[0]\n",
    "            label = \"\"\n",
    "    else:\n",
    "        rationale = gen_label\n",
    "        label = \"\"\n",
    "\n",
    "    # Preparing the rationale\n",
    "    if rationale == \"\":\n",
    "        rationale = gen_label.replace(\"the answer is\",\"\").replace('answer:', '').strip()    \n",
    "    rationale = rationale.replace('hence', '').strip().strip('.')\n",
    "\n",
    "    # Preparing the label\n",
    "    if org_label not in label:\n",
    "        label = org_label\n",
    "    \n",
    "    return rationale, label"
   ]
  },
  {
   "cell_type": "code",
   "execution_count": 24,
   "id": "fdce5ffc-2b05-4f3a-9287-d6687ba054b2",
   "metadata": {},
   "outputs": [],
   "source": [
    "file_num = 0\n",
    "dumper = []\n",
    "\n",
    "for i in range(len(llama_output)):\n",
    "    \n",
    "    rationale, label = curate(llama_output, i)\n",
    "\n",
    "    matched_num = int(matches[i].split()[0])\n",
    "    rag_rationale, rag_label = curate(llama_output, matched_num)\n",
    "    rag_question = llama_output[matched_num]['input']\n",
    "    rag_answer = f\"{rag_rationale} The answer is {rag_label}\"\n",
    "    \n",
    "    entry = f\"{rationale} The answer is {label}. Q: {rag_question} A: {rag_answer}\"\n",
    "    dumper.append(entry)\n",
    "\n",
    "    if i % 500 == 499 or i == (len(llama_output) - 1):\n",
    "        with open(f\"./llm/{split}_CoT_{file_num}.json\", \"w\") as f:\n",
    "            json.dump(dumper, f)\n",
    "        dumper = []\n",
    "        file_num += 1"
   ]
  },
  {
   "cell_type": "code",
   "execution_count": null,
   "id": "c81338b9-7cb5-4419-a23b-865ad0dcf11e",
   "metadata": {},
   "outputs": [],
   "source": []
  }
 ],
 "metadata": {
  "kernelspec": {
   "display_name": "Python 3 (ipykernel)",
   "language": "python",
   "name": "python3"
  },
  "language_info": {
   "codemirror_mode": {
    "name": "ipython",
    "version": 3
   },
   "file_extension": ".py",
   "mimetype": "text/x-python",
   "name": "python",
   "nbconvert_exporter": "python",
   "pygments_lexer": "ipython3",
   "version": "3.11.7"
  }
 },
 "nbformat": 4,
 "nbformat_minor": 5
}
