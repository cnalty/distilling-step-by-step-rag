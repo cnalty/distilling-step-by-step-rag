{
 "cells": [
  {
   "cell_type": "code",
   "execution_count": 1,
   "id": "458e40a2-4521-4a3c-9979-7cba8e8b8e01",
   "metadata": {},
   "outputs": [],
   "source": [
    "import json\n",
    "import re"
   ]
  },
  {
   "cell_type": "code",
   "execution_count": 2,
   "id": "e345dc32-5d85-41ba-9c43-fb8906041c93",
   "metadata": {},
   "outputs": [],
   "source": [
    "split = 'train'"
   ]
  },
  {
   "cell_type": "code",
   "execution_count": 3,
   "id": "a51d6cc7-bb02-46fc-af85-feb26de1731a",
   "metadata": {},
   "outputs": [],
   "source": [
    "with open(f'svamp_{split}_llama3.json') as f:\n",
    "    llama_output = json.load(f)"
   ]
  },
  {
   "cell_type": "code",
   "execution_count": 4,
   "id": "18962b71-b095-4bb4-8b71-6e3ff32ef855",
   "metadata": {},
   "outputs": [],
   "source": [
    "with open(f'svamp_{split}_matches.txt', 'r') as f:\n",
    "    matches = f.readlines()"
   ]
  },
  {
   "cell_type": "code",
   "execution_count": null,
   "id": "3bd714f6-707e-4d2f-8eda-8f8922d94eec",
   "metadata": {},
   "outputs": [],
   "source": [
    "with open(f'svamp_{split}_random_llama3.json') as f:\n",
    "    llama_output = json.load(f)\n",
    "\n",
    "with open(f'svamp_{split}_matches.txt', 'r') as f:\n",
    "    matches = f.readlines()"
   ]
  },
  {
   "cell_type": "code",
   "execution_count": 5,
   "id": "6afbfd64-b896-464a-b1ed-8bace52d8490",
   "metadata": {},
   "outputs": [],
   "source": [
    "def curate(data, index):\n",
    "    # Extracting fields\n",
    "    gen_label = data[index]['gen_label'].lower().replace('rationale:', '').strip()\n",
    "    org_label = data[index]['org_label']\n",
    "    # choices = data[index]['input'].split('\\n')[-5:]\n",
    "    # split_choice = [re.split(r'\\(.\\)', choice)[1].strip() for choice in choices]\n",
    "    # derived_label = \"\".join(choices[j] for j in range(len(split_choice)) if split_choice[j] in gen_label)\n",
    "\n",
    "    # Splitting rationale and label\n",
    "    if ('the answer is' in gen_label and len(gen_label) > 1):\n",
    "        try:\n",
    "            rationale, label = gen_label.split('the answer is')\n",
    "        except:\n",
    "            rationale = gen_label.split('the answer is')[0]\n",
    "            label = \"\"\n",
    "    else:\n",
    "        rationale = gen_label\n",
    "        label = \"\"\n",
    "\n",
    "    # Preparing the rationale\n",
    "    if rationale == \"\":\n",
    "        rationale = gen_label.replace(\"the answer is\",\"\").replace('answer:', '').strip()    \n",
    "    rationale = rationale.replace('hence', '').strip().strip('.')\n",
    "\n",
    "    # Preparing the label\n",
    "    if org_label not in label:\n",
    "        label = org_label\n",
    "    \n",
    "    return rationale, label"
   ]
  },
  {
   "cell_type": "code",
   "execution_count": 6,
   "id": "fdce5ffc-2b05-4f3a-9287-d6687ba054b2",
   "metadata": {},
   "outputs": [
    {
     "name": "stdout",
     "output_type": "stream",
     "text": [
      "to find the number of points luke scored per round, we divide the total points scored by the number of rounds played. so, 84 points / 2 rounds = 42 points per round. answer: 42. So the answer is ( 84.0 / 2.0 ). Q: Luke played a trivia game and gained 3 points in each round of a game. If he scored 78 points in the trivia game\n",
      "How many rounds did he play? A: to find the number of rounds luke played, we use the formula total points scored = number of rounds played * points gained per round, so the number of rounds played is total points scored divided by points gained per round. in this case, 78 / 3 = 78 rounds. So the answer is ( 78.0 / 3.0 )\n",
      "30 crayons per row * 7 rows = 210 crayons. So the answer is ( 7.0 * 30.0 ). Q: Faye was placing her pencils and crayons into 11 rows with 31 pencils and 27 crayons in each row.\n",
      "How many pencils and crayons does she have altogether? A: 31 pencils * 11 rows + 27 crayons * 11 rows = 362 pencils and 297 crayons altogether. answer: 362 pencils and 297 crayons. So the answer is ( ( 31.0 + 27.0 ) * 11.0 )\n",
      "by adding the number of kids she played with on each day, we get 17 + 15 + 2 = 34 kids altogether. So the answer is ( ( 17.0 + 15.0 ) + 2.0 ). Q: Julia played tag with 15 kids on monday, 18 kids on tuesday and 7 kids on wednesday.\n",
      "How many more kids did she play with on monday and tuesday than on wednesday? A: to find the number of kids she played with on monday and tuesday, we add the number of kids on monday and tuesday together: 15 + 18 = 33. to find the number of kids she played with on wednesday, we use the number of kids on wednesday: 7. to find the number of kids she played with on monday and tuesday than on wednesday, we subtract the number of kids on wednesday from the number of kids on monday and tuesday: 33 - 7 = 26. answer: 26. So the answer is ( ( 15.0 + 18.0 ) - 7.0 )\n",
      "first, we subtract the number of wrappers that danny found at the park from the number of wrappers he has now to find the number of wrappers he had at first: 63 - 8 = 55. then, we subtract the number of bottle caps that danny found at the park from the number of bottle caps he has now to find the number of bottle caps he had at first: 28 - 22 = 6. So the answer is ( 28.0 - 22.0 ). Q: Danny collects bottle caps and wrappers. He found 82 wrappers and 29 bottle caps at the park. Now he has 42 bottle caps and 61 wrappers in his collection.\n",
      "How many bottle caps did danny have at first? A: the number of bottle caps danny had at first can be calculated by subtracting the number of bottle caps he has now from the number of bottle caps he found at the park, i.e. 29 - 42 = -13. So the answer is ( 42.0 - 29.0 )\n",
      "subtract the number of candy eaten from the initial number of candy. So the answer is ( 30.0 - 23.0 ). Q: Bobby ate 17 pieces of candy. Then he ate 15 more. If he initially had 36 pieces of candy\n",
      "How many pieces of candy does he still have left? A: subtract the number of candy eaten from the initial number of candy. So the answer is ( 36.0 - ( 17.0 + 15.0 ) )\n",
      "the mailman gives 4 pieces of junk mail to each of the 16 blocks, and each block has 17 houses, so he gives a total of 4 x 16 x 17 = 224 pieces of junk mail. So the answer is ( ( 4.0 * 17.0 ) * 16.0 ). Q: A mailman has to give 4 pieces of junk mail to each house in each of the 81 blocks. If there are 12 houses in each block\n",
      "How many pieces of junk mail should he give in each block? A: the mailman gives 4 pieces of junk mail to each of the 12 houses in each block, so he gives a total of 4 x 12 = 48 pieces of junk mail to each block. So the answer is ( 4.0 * 12.0 )\n",
      "first, we calculate the number of crackers and cakes each friend would have received if they had been divided equally among them: (13 crackers / 28 friends) and (15 cakes / 28 friends). then, we add the number of crackers and cakes each friend would have received to get the total number of crackers and cakes each friend would have eaten: (13 crackers / 28 friends) + (15 cakes / 28 friends). So the answer is ( ( 13.0 + 15.0 ) / 28.0 ). Q: Matthew gave equal numbers of crackers and cakes to his 4 friends. If he had 32 crackers and 98 cakes initially\n",
      "How many crackers did each person eat? A: he gave 32 crackers and 98 cakes to 4 friends, so each friend got 8 crackers and 24 cakes. So the answer is ( 32.0 / 4.0 )\n",
      "8 sacks per day with 35 oranges per sack, so 8 * 35 = 280 oranges per day. So the answer is ( 8.0 * 35.0 ). Q: He then went to see the oranges being harvested. He found out that they harvest 67 sacks per day and that each sack containes 12 oranges.\n",
      "How many oranges are harvested if they harvest a total of 35 sacks of oranges? A: to find the number of oranges harvested from 35 sacks, we use the formula (35 * 12), where 35 is the number of sacks and 12 is the number of oranges per sack. So the answer is ( 12.0 * 35.0 )\n",
      "the number of books is 10 and the number of movies is 6. you have read 14 movies and watched 19 books. the difference in the number of books and movies is 10 - 6 = 4. since you have read 14 movies and watched 19 books, the number of books you have read is 19 - 14 = 5 more than the number of movies you have read. So the answer is ( 19.0 - 14.0 ). Q: There are 8 different books and 5 different movies in the ' crazy silly school ' series. If you read 19 of the movies and watched 16 of the books\n",
      "How many more movies than books have you read? A: the number of books and movies in the series is 8 and 5 respectively. you have read 19 movies and watched 16 books. the difference in the number of books and movies you have read is 19 - 16 = 3. So the answer is ( 19.0 - 16.0 )\n",
      "first, we subtract the number of marbles he lost from the number he had originally, which gives us 19 - 11 = 8. then, we add the number of new marbles he found, which gives us 8 + 5 = 13. So the answer is ( ( 19.0 - 11.0 ) + 5.0 ). Q: Josh had 22 marbles in his collection. He found 13 marbles ones while he lost 5 marbles.\n",
      "How many marbles does he have now? A: he found 13 marbles and lost 5, so he has 13 - 5 = 8 more than he started with. he started with 22, so he has 22 + 8 = 30 now. answer: 30. So the answer is ( ( 22.0 - 5.0 ) + 13.0 )\n",
      "by subtracting the number of wrappers from the number of bottle caps in his collection, we get the difference: 28.0 - 16.0 = 12.0. So the answer is ( 28.0 - 16.0 ). Q: Danny collects bottle caps and wrappers. He found 15 bottle caps and 18 wrappers at the park. Now he has 67 wrappers and 35 bottle caps in his collection.\n",
      "How many more wrappers than bottle caps does danny have now? A: first, we subtract the number of bottle caps found at the park from the number of wrappers found at the park to get the initial difference: 18 - 15 = 3. then, we subtract the number of bottle caps in danny's collection from the number of wrappers in his collection to get the final difference: 67 - 35 = 32. So the answer is ( 67.0 - 35.0 )\n"
     ]
    }
   ],
   "source": [
    "file_num = 0\n",
    "dumper = []\n",
    "\n",
    "for i in range(len(llama_output)):\n",
    "    \n",
    "    rationale, label = curate(llama_output, i)\n",
    "\n",
    "    matched_num = int(matches[i].split()[0])\n",
    "    rag_rationale, rag_label = curate(llama_output, matched_num)\n",
    "    rag_question = llama_output[matched_num]['input']\n",
    "    rag_answer = f\"{rag_rationale}. So the answer is {rag_label}\"\n",
    "    \n",
    "    entry = f\"{rationale}. So the answer is {label}. Q: {rag_question} A: {rag_answer}\"\n",
    "    dumper.append(entry)\n",
    "\n",
    "    if i % 500 == 499 or i == (len(llama_output) - 1):\n",
    "        with open(f\"./llm/{split}_CoT_{file_num}.json\", \"w\") as f:\n",
    "            json.dump(dumper, f)\n",
    "        dumper = []\n",
    "        file_num += 1"
   ]
  },
  {
   "cell_type": "code",
   "execution_count": null,
   "id": "c81338b9-7cb5-4419-a23b-865ad0dcf11e",
   "metadata": {},
   "outputs": [],
   "source": []
  }
 ],
 "metadata": {
  "kernelspec": {
   "display_name": "Python 3 (ipykernel)",
   "language": "python",
   "name": "python3"
  },
  "language_info": {
   "codemirror_mode": {
    "name": "ipython",
    "version": 3
   },
   "file_extension": ".py",
   "mimetype": "text/x-python",
   "name": "python",
   "nbconvert_exporter": "python",
   "pygments_lexer": "ipython3",
   "version": "3.11.7"
  }
 },
 "nbformat": 4,
 "nbformat_minor": 5
}
