{
 "cells": [
  {
   "cell_type": "code",
   "execution_count": 1,
   "id": "bbc86a72-5354-41f2-9c86-7fd5b1a1e636",
   "metadata": {},
   "outputs": [],
   "source": [
    "import json\n",
    "import re"
   ]
  },
  {
   "cell_type": "code",
   "execution_count": 2,
   "id": "11ecc728-13b8-4ed5-b223-75689c1469a6",
   "metadata": {},
   "outputs": [],
   "source": [
    "split = 'test'"
   ]
  },
  {
   "cell_type": "code",
   "execution_count": 3,
   "id": "9f65d09b-18cc-4487-8bfe-2d930fa5da41",
   "metadata": {},
   "outputs": [],
   "source": [
    "with open(f'cqa_{split}_llama3.json') as f:\n",
    "    llama_output = json.load(f)"
   ]
  },
  {
   "cell_type": "code",
   "execution_count": 4,
   "id": "5cae824a-eef4-41f1-9770-9d2d52534259",
   "metadata": {},
   "outputs": [],
   "source": [
    "with open(f'cqa_{split}_matches.txt', 'r') as f:\n",
    "    matches = f.readlines()"
   ]
  },
  {
   "cell_type": "code",
   "execution_count": 5,
   "id": "44f55c10-a760-411c-ae98-47acaf2e5409",
   "metadata": {},
   "outputs": [],
   "source": [
    "with open(f'cqa_{split}_random_llama3.json') as f:\n",
    "    llama_output = json.load(f)\n",
    "    f.close()\n",
    "with open(f'cqa_{split}_matches.txt', 'r') as f:\n",
    "    matches = f.readlines()\n",
    "    f.close()"
   ]
  },
  {
   "cell_type": "code",
   "execution_count": 6,
   "id": "07994728-06d2-47c0-afbc-fa5034404132",
   "metadata": {},
   "outputs": [],
   "source": [
    "def curate(data, index):\n",
    "    \n",
    "    # Extracting fields\n",
    "    gen_label = data[index]['gen_label'].lower().replace('rationale:', '').strip()\n",
    "    org_label = data[index]['org_label']\n",
    "    choices = data[index]['input'].split('\\n')[-5:]\n",
    "    split_choice = [re.split(r'\\(.\\)', choice)[1].strip() for choice in choices]\n",
    "    derived_label = \"\".join(choices[j] for j in range(len(split_choice)) if split_choice[j] in gen_label)\n",
    "\n",
    "    # Splitting rationale and label\n",
    "    if ('the answer is' in gen_label and len(gen_label) > 1):\n",
    "        try:\n",
    "            rationale, label = gen_label.split('the answer is')\n",
    "        except:\n",
    "            rationale = gen_label.split('the answer is')[0]\n",
    "            label = \"\"\n",
    "    else:\n",
    "        rationale = gen_label\n",
    "        label = \"\"\n",
    "\n",
    "    # Preparing the rationale\n",
    "    if rationale == \"\":\n",
    "        rationale = gen_label.replace(\"the answer is\",\"\").replace('answer:', '').strip()    \n",
    "    rationale = rationale.replace('hence', '').strip().strip('.')\n",
    "\n",
    "    # Preparing the label\n",
    "    if (label != \"\" and len(label) > 0 and bool(re.search(r'\\(.\\)', label))):\n",
    "        label = label.replace('answer:', '').strip().strip('.')\n",
    "    elif derived_label!= \"\":\n",
    "        label = derived_label\n",
    "    elif label == \"\":\n",
    "        label = \"\".join(choices[i] for i in range(len(split_choice)) if split_choice[i] in org_label)\n",
    "    \n",
    "    return rationale, label"
   ]
  },
  {
   "cell_type": "code",
   "execution_count": 7,
   "id": "daa6da84-bd21-4a89-a276-bd8411e001a9",
   "metadata": {},
   "outputs": [],
   "source": [
    "file_num = 0\n",
    "dumper = []\n",
    "\n",
    "for i in range(len(llama_output)):\n",
    "    \n",
    "    rationale, label = curate(llama_output, i)\n",
    "\n",
    "    matched_num = int(matches[i].split()[0])\n",
    "    rag_rationale, rag_label = curate(llama_output, matched_num)\n",
    "    rag_question = llama_output[matched_num]['input']\n",
    "    rag_answer = f\"{rag_rationale}. So the answer is {rag_label}\"\n",
    "    \n",
    "    entry = f\"{rationale}. So the answer is {label}. Q: {rag_question} A: {rag_answer}\"\n",
    "    dumper.append(entry)\n",
    "    \n",
    "  \n",
    "    if i % 1000 == 999 or i == (len(llama_output) - 1):\n",
    "        with open(f\"./llm/{split}_CoT_{file_num}.json\", \"w\") as f:\n",
    "            json.dump(dumper, f)\n",
    "        dumper = []\n",
    "        file_num += 1"
   ]
  },
  {
   "cell_type": "code",
   "execution_count": null,
   "id": "c41ccf9d-503b-44f1-8fba-4c5573ba89c7",
   "metadata": {},
   "outputs": [],
   "source": []
  }
 ],
 "metadata": {
  "kernelspec": {
   "display_name": "Python 3 (ipykernel)",
   "language": "python",
   "name": "python3"
  },
  "language_info": {
   "codemirror_mode": {
    "name": "ipython",
    "version": 3
   },
   "file_extension": ".py",
   "mimetype": "text/x-python",
   "name": "python",
   "nbconvert_exporter": "python",
   "pygments_lexer": "ipython3",
   "version": "3.11.7"
  }
 },
 "nbformat": 4,
 "nbformat_minor": 5
}
